{
 "cells": [
  {
   "cell_type": "markdown",
   "metadata": {},
   "source": [
    "# What are the most demanded skills for the top 3 popular data roles?"
   ]
  },
  {
   "cell_type": "markdown",
   "metadata": {},
   "source": [
    "## Loading and Cleaning Dataset"
   ]
  },
  {
   "cell_type": "code",
   "execution_count": 1,
   "metadata": {},
   "outputs": [],
   "source": [
    "#  Importing Libraries\n",
    "import ast\n",
    "import pandas as pd\n",
    "import seaborn as sns\n",
    "from datasets import load_dataset\n",
    "import matplotlib.pyplot as plt\n",
    "\n",
    "#  Using 'datasets' library to load dataset from hugging face (https://huggingface.co/datasets/lukebarousse/data_jobs)\n",
    "dataset = load_dataset('lukebarousse/data_jobs')\n",
    "df = dataset['train'].to_pandas()\n",
    "\n",
    "#  Data Cleanup\n",
    "#  Converting str to datetime\n",
    "df['job_posted_date'] = pd.to_datetime(df['job_posted_date'])\n",
    "#  Converting str to list\n",
    "df['job_skills'] = df['job_skills'].apply(lambda x: ast.literal_eval(x) if pd.notna(x) else x)"
   ]
  },
  {
   "cell_type": "markdown",
   "metadata": {},
   "source": [
    "## Filter for US Roles"
   ]
  },
  {
   "cell_type": "code",
   "execution_count": 2,
   "metadata": {},
   "outputs": [],
   "source": [
    "df_US = df[df['job_country'] == 'United States']"
   ]
  },
  {
   "cell_type": "markdown",
   "metadata": {},
   "source": [
    "## Explode Skills Column"
   ]
  },
  {
   "cell_type": "code",
   "execution_count": 3,
   "metadata": {},
   "outputs": [
    {
     "data": {
      "text/html": [
       "<div>\n",
       "<style scoped>\n",
       "    .dataframe tbody tr th:only-of-type {\n",
       "        vertical-align: middle;\n",
       "    }\n",
       "\n",
       "    .dataframe tbody tr th {\n",
       "        vertical-align: top;\n",
       "    }\n",
       "\n",
       "    .dataframe thead th {\n",
       "        text-align: right;\n",
       "    }\n",
       "</style>\n",
       "<table border=\"1\" class=\"dataframe\">\n",
       "  <thead>\n",
       "    <tr style=\"text-align: right;\">\n",
       "      <th></th>\n",
       "      <th>job_title</th>\n",
       "      <th>job_skills</th>\n",
       "    </tr>\n",
       "  </thead>\n",
       "  <tbody>\n",
       "    <tr>\n",
       "      <th>0</th>\n",
       "      <td>Senior Clinical Data Engineer / Principal Clin...</td>\n",
       "      <td>None</td>\n",
       "    </tr>\n",
       "    <tr>\n",
       "      <th>3</th>\n",
       "      <td>LEAD ENGINEER - PRINCIPAL ANALYST - PRINCIPAL ...</td>\n",
       "      <td>python</td>\n",
       "    </tr>\n",
       "    <tr>\n",
       "      <th>3</th>\n",
       "      <td>LEAD ENGINEER - PRINCIPAL ANALYST - PRINCIPAL ...</td>\n",
       "      <td>c++</td>\n",
       "    </tr>\n",
       "    <tr>\n",
       "      <th>3</th>\n",
       "      <td>LEAD ENGINEER - PRINCIPAL ANALYST - PRINCIPAL ...</td>\n",
       "      <td>java</td>\n",
       "    </tr>\n",
       "    <tr>\n",
       "      <th>3</th>\n",
       "      <td>LEAD ENGINEER - PRINCIPAL ANALYST - PRINCIPAL ...</td>\n",
       "      <td>matlab</td>\n",
       "    </tr>\n",
       "    <tr>\n",
       "      <th>...</th>\n",
       "      <td>...</td>\n",
       "      <td>...</td>\n",
       "    </tr>\n",
       "    <tr>\n",
       "      <th>785692</th>\n",
       "      <td>Data Scientist- Hybrid Work Location</td>\n",
       "      <td>r</td>\n",
       "    </tr>\n",
       "    <tr>\n",
       "      <th>785703</th>\n",
       "      <td>Data Analyst - CRYPTOGRAPHY - Full-time</td>\n",
       "      <td>None</td>\n",
       "    </tr>\n",
       "    <tr>\n",
       "      <th>785705</th>\n",
       "      <td>Expert Business Data Analyst - Now Hiring</td>\n",
       "      <td>sql</td>\n",
       "    </tr>\n",
       "    <tr>\n",
       "      <th>785705</th>\n",
       "      <td>Expert Business Data Analyst - Now Hiring</td>\n",
       "      <td>python</td>\n",
       "    </tr>\n",
       "    <tr>\n",
       "      <th>785705</th>\n",
       "      <td>Expert Business Data Analyst - Now Hiring</td>\n",
       "      <td>tableau</td>\n",
       "    </tr>\n",
       "  </tbody>\n",
       "</table>\n",
       "<p>1073565 rows × 2 columns</p>\n",
       "</div>"
      ],
      "text/plain": [
       "                                                job_title job_skills\n",
       "0       Senior Clinical Data Engineer / Principal Clin...       None\n",
       "3       LEAD ENGINEER - PRINCIPAL ANALYST - PRINCIPAL ...     python\n",
       "3       LEAD ENGINEER - PRINCIPAL ANALYST - PRINCIPAL ...        c++\n",
       "3       LEAD ENGINEER - PRINCIPAL ANALYST - PRINCIPAL ...       java\n",
       "3       LEAD ENGINEER - PRINCIPAL ANALYST - PRINCIPAL ...     matlab\n",
       "...                                                   ...        ...\n",
       "785692               Data Scientist- Hybrid Work Location          r\n",
       "785703            Data Analyst - CRYPTOGRAPHY - Full-time       None\n",
       "785705          Expert Business Data Analyst - Now Hiring        sql\n",
       "785705          Expert Business Data Analyst - Now Hiring     python\n",
       "785705          Expert Business Data Analyst - Now Hiring    tableau\n",
       "\n",
       "[1073565 rows x 2 columns]"
      ]
     },
     "execution_count": 3,
     "metadata": {},
     "output_type": "execute_result"
    }
   ],
   "source": [
    "df_skills = df_US.explode('job_skills')\n",
    "\n",
    "df_skills[['job_title', 'job_skills']]"
   ]
  },
  {
   "cell_type": "markdown",
   "metadata": {},
   "source": [
    "## Count Skills by Job Title"
   ]
  },
  {
   "cell_type": "code",
   "execution_count": 4,
   "metadata": {},
   "outputs": [
    {
     "data": {
      "text/html": [
       "<div>\n",
       "<style scoped>\n",
       "    .dataframe tbody tr th:only-of-type {\n",
       "        vertical-align: middle;\n",
       "    }\n",
       "\n",
       "    .dataframe tbody tr th {\n",
       "        vertical-align: top;\n",
       "    }\n",
       "\n",
       "    .dataframe thead th {\n",
       "        text-align: right;\n",
       "    }\n",
       "</style>\n",
       "<table border=\"1\" class=\"dataframe\">\n",
       "  <thead>\n",
       "    <tr style=\"text-align: right;\">\n",
       "      <th></th>\n",
       "      <th>job_skills</th>\n",
       "      <th>job_title_short</th>\n",
       "      <th>skill_count</th>\n",
       "    </tr>\n",
       "  </thead>\n",
       "  <tbody>\n",
       "    <tr>\n",
       "      <th>1209</th>\n",
       "      <td>python</td>\n",
       "      <td>Data Scientist</td>\n",
       "      <td>42379</td>\n",
       "    </tr>\n",
       "    <tr>\n",
       "      <th>1521</th>\n",
       "      <td>sql</td>\n",
       "      <td>Data Analyst</td>\n",
       "      <td>34452</td>\n",
       "    </tr>\n",
       "    <tr>\n",
       "      <th>1523</th>\n",
       "      <td>sql</td>\n",
       "      <td>Data Scientist</td>\n",
       "      <td>30034</td>\n",
       "    </tr>\n",
       "    <tr>\n",
       "      <th>455</th>\n",
       "      <td>excel</td>\n",
       "      <td>Data Analyst</td>\n",
       "      <td>27519</td>\n",
       "    </tr>\n",
       "    <tr>\n",
       "      <th>1243</th>\n",
       "      <td>r</td>\n",
       "      <td>Data Scientist</td>\n",
       "      <td>26022</td>\n",
       "    </tr>\n",
       "    <tr>\n",
       "      <th>...</th>\n",
       "      <td>...</td>\n",
       "      <td>...</td>\n",
       "      <td>...</td>\n",
       "    </tr>\n",
       "    <tr>\n",
       "      <th>245</th>\n",
       "      <td>clojure</td>\n",
       "      <td>Software Engineer</td>\n",
       "      <td>1</td>\n",
       "    </tr>\n",
       "    <tr>\n",
       "      <th>1738</th>\n",
       "      <td>vb.net</td>\n",
       "      <td>Senior Data Scientist</td>\n",
       "      <td>1</td>\n",
       "    </tr>\n",
       "    <tr>\n",
       "      <th>530</th>\n",
       "      <td>fortran</td>\n",
       "      <td>Machine Learning Engineer</td>\n",
       "      <td>1</td>\n",
       "    </tr>\n",
       "    <tr>\n",
       "      <th>1116</th>\n",
       "      <td>planner</td>\n",
       "      <td>Cloud Engineer</td>\n",
       "      <td>1</td>\n",
       "    </tr>\n",
       "    <tr>\n",
       "      <th>960</th>\n",
       "      <td>nltk</td>\n",
       "      <td>Senior Data Engineer</td>\n",
       "      <td>1</td>\n",
       "    </tr>\n",
       "  </tbody>\n",
       "</table>\n",
       "<p>1870 rows × 3 columns</p>\n",
       "</div>"
      ],
      "text/plain": [
       "     job_skills            job_title_short  skill_count\n",
       "1209     python             Data Scientist        42379\n",
       "1521        sql               Data Analyst        34452\n",
       "1523        sql             Data Scientist        30034\n",
       "455       excel               Data Analyst        27519\n",
       "1243          r             Data Scientist        26022\n",
       "...         ...                        ...          ...\n",
       "245     clojure          Software Engineer            1\n",
       "1738     vb.net      Senior Data Scientist            1\n",
       "530     fortran  Machine Learning Engineer            1\n",
       "1116    planner             Cloud Engineer            1\n",
       "960        nltk       Senior Data Engineer            1\n",
       "\n",
       "[1870 rows x 3 columns]"
      ]
     },
     "execution_count": 4,
     "metadata": {},
     "output_type": "execute_result"
    }
   ],
   "source": [
    "# Group by job_skills and job_title_short and count the number of occurrences\n",
    "df_skills_count = df_skills.groupby(['job_skills', 'job_title_short']).size()\n",
    "\n",
    "# Name the count column as count\n",
    "df_skills_count = df_skills_count.reset_index(name='skill_count')\n",
    "\n",
    "# Sort the values by skill_count in descending order\n",
    "df_skills_count.sort_values(by='skill_count', ascending=False, inplace=True)\n",
    "\n",
    "df_skills_count"
   ]
  },
  {
   "cell_type": "markdown",
   "metadata": {},
   "source": [
    "## Create a List of Top 3 Roles"
   ]
  },
  {
   "cell_type": "code",
   "execution_count": 5,
   "metadata": {},
   "outputs": [
    {
     "data": {
      "text/plain": [
       "['Data Analyst', 'Data Engineer', 'Data Scientist']"
      ]
     },
     "execution_count": 5,
     "metadata": {},
     "output_type": "execute_result"
    }
   ],
   "source": [
    "job_titles = df_skills_count['job_title_short'].unique().tolist()\n",
    "\n",
    "job_titles = sorted(job_titles[:3])\n",
    "\n",
    "job_titles"
   ]
  },
  {
   "cell_type": "markdown",
   "metadata": {},
   "source": [
    "## Plot Skill Counts"
   ]
  },
  {
   "cell_type": "code",
   "execution_count": 6,
   "metadata": {},
   "outputs": [
    {
     "data": {
      "image/png": "[encoded data removed]",
      "text/plain": [
       "<Figure size 640x480 with 3 Axes>"
      ]
     },
     "metadata": {},
     "output_type": "display_data"
    }
   ],
   "source": [
    "fig, ax = plt.subplots(len(job_titles), 1)\n",
    "\n",
    "sns.set_theme(style='ticks')\n",
    "\n",
    "for i, job_title in enumerate(job_titles):\n",
    "    df_plot = df_skills_count[df_skills_count['job_title_short'] == job_title].head(5)[::-1]\n",
    "    sns.barplot(data=df_plot, x='skill_count', y='job_skills', ax=ax[i], hue='skill_count', palette='dark:b_r')\n",
    "    ax[i].set_title(job_title)\n",
    "    ax[i].invert_yaxis()\n",
    "    ax[i].set_ylabel('')\n",
    "    ax[i].set_xlabel('')\n",
    "    ax[i].get_legend().remove()\n",
    "    ax[i].set_xlim(0, 45000) # make the scales the same\n",
    "\n",
    "fig.suptitle('Counts of Skills Requested in US Job Postings')\n",
    "fig.tight_layout() # fix the overlap\n",
    "plt.show()"
   ]
  },
  {
   "cell_type": "markdown",
   "metadata": {},
   "source": [
    "## Convert Counts to Percentages"
   ]
  },
  {
   "cell_type": "markdown",
   "metadata": {},
   "source": [
    "### Counts don't show what portions of jobs are requesting these skills"
   ]
  },
  {
   "cell_type": "code",
   "execution_count": 7,
   "metadata": {},
   "outputs": [
    {
     "data": {
      "text/html": [
       "<div>\n",
       "<style scoped>\n",
       "    .dataframe tbody tr th:only-of-type {\n",
       "        vertical-align: middle;\n",
       "    }\n",
       "\n",
       "    .dataframe tbody tr th {\n",
       "        vertical-align: top;\n",
       "    }\n",
       "\n",
       "    .dataframe thead th {\n",
       "        text-align: right;\n",
       "    }\n",
       "</style>\n",
       "<table border=\"1\" class=\"dataframe\">\n",
       "  <thead>\n",
       "    <tr style=\"text-align: right;\">\n",
       "      <th></th>\n",
       "      <th>job_title_short</th>\n",
       "      <th>jobs_total</th>\n",
       "    </tr>\n",
       "  </thead>\n",
       "  <tbody>\n",
       "    <tr>\n",
       "      <th>0</th>\n",
       "      <td>Data Analyst</td>\n",
       "      <td>67816</td>\n",
       "    </tr>\n",
       "    <tr>\n",
       "      <th>1</th>\n",
       "      <td>Data Scientist</td>\n",
       "      <td>58830</td>\n",
       "    </tr>\n",
       "    <tr>\n",
       "      <th>2</th>\n",
       "      <td>Data Engineer</td>\n",
       "      <td>35080</td>\n",
       "    </tr>\n",
       "    <tr>\n",
       "      <th>3</th>\n",
       "      <td>Senior Data Scientist</td>\n",
       "      <td>12946</td>\n",
       "    </tr>\n",
       "    <tr>\n",
       "      <th>4</th>\n",
       "      <td>Senior Data Analyst</td>\n",
       "      <td>11791</td>\n",
       "    </tr>\n",
       "    <tr>\n",
       "      <th>5</th>\n",
       "      <td>Senior Data Engineer</td>\n",
       "      <td>9289</td>\n",
       "    </tr>\n",
       "    <tr>\n",
       "      <th>6</th>\n",
       "      <td>Business Analyst</td>\n",
       "      <td>7382</td>\n",
       "    </tr>\n",
       "    <tr>\n",
       "      <th>7</th>\n",
       "      <td>Software Engineer</td>\n",
       "      <td>1814</td>\n",
       "    </tr>\n",
       "    <tr>\n",
       "      <th>8</th>\n",
       "      <td>Machine Learning Engineer</td>\n",
       "      <td>921</td>\n",
       "    </tr>\n",
       "    <tr>\n",
       "      <th>9</th>\n",
       "      <td>Cloud Engineer</td>\n",
       "      <td>423</td>\n",
       "    </tr>\n",
       "  </tbody>\n",
       "</table>\n",
       "</div>"
      ],
      "text/plain": [
       "             job_title_short  jobs_total\n",
       "0               Data Analyst       67816\n",
       "1             Data Scientist       58830\n",
       "2              Data Engineer       35080\n",
       "3      Senior Data Scientist       12946\n",
       "4        Senior Data Analyst       11791\n",
       "5       Senior Data Engineer        9289\n",
       "6           Business Analyst        7382\n",
       "7          Software Engineer        1814\n",
       "8  Machine Learning Engineer         921\n",
       "9             Cloud Engineer         423"
      ]
     },
     "execution_count": 7,
     "metadata": {},
     "output_type": "execute_result"
    }
   ],
   "source": [
    "# Use original df to get the count of job titles\n",
    "df_job_title_count = df_US['job_title_short'].value_counts().reset_index(name='jobs_total')\n",
    "\n",
    "df_job_title_count"
   ]
  },
  {
   "cell_type": "code",
   "execution_count": 8,
   "metadata": {},
   "outputs": [
    {
     "data": {
      "text/html": [
       "<div>\n",
       "<style scoped>\n",
       "    .dataframe tbody tr th:only-of-type {\n",
       "        vertical-align: middle;\n",
       "    }\n",
       "\n",
       "    .dataframe tbody tr th {\n",
       "        vertical-align: top;\n",
       "    }\n",
       "\n",
       "    .dataframe thead th {\n",
       "        text-align: right;\n",
       "    }\n",
       "</style>\n",
       "<table border=\"1\" class=\"dataframe\">\n",
       "  <thead>\n",
       "    <tr style=\"text-align: right;\">\n",
       "      <th></th>\n",
       "      <th>job_skills</th>\n",
       "      <th>job_title_short</th>\n",
       "      <th>skill_count</th>\n",
       "      <th>jobs_total</th>\n",
       "      <th>skill_percent</th>\n",
       "    </tr>\n",
       "  </thead>\n",
       "  <tbody>\n",
       "    <tr>\n",
       "      <th>0</th>\n",
       "      <td>python</td>\n",
       "      <td>Data Scientist</td>\n",
       "      <td>42379</td>\n",
       "      <td>58830</td>\n",
       "      <td>72.036376</td>\n",
       "    </tr>\n",
       "    <tr>\n",
       "      <th>1</th>\n",
       "      <td>sql</td>\n",
       "      <td>Data Analyst</td>\n",
       "      <td>34452</td>\n",
       "      <td>67816</td>\n",
       "      <td>50.802171</td>\n",
       "    </tr>\n",
       "    <tr>\n",
       "      <th>2</th>\n",
       "      <td>sql</td>\n",
       "      <td>Data Scientist</td>\n",
       "      <td>30034</td>\n",
       "      <td>58830</td>\n",
       "      <td>51.052184</td>\n",
       "    </tr>\n",
       "    <tr>\n",
       "      <th>3</th>\n",
       "      <td>excel</td>\n",
       "      <td>Data Analyst</td>\n",
       "      <td>27519</td>\n",
       "      <td>67816</td>\n",
       "      <td>40.578919</td>\n",
       "    </tr>\n",
       "    <tr>\n",
       "      <th>4</th>\n",
       "      <td>r</td>\n",
       "      <td>Data Scientist</td>\n",
       "      <td>26022</td>\n",
       "      <td>58830</td>\n",
       "      <td>44.232534</td>\n",
       "    </tr>\n",
       "    <tr>\n",
       "      <th>...</th>\n",
       "      <td>...</td>\n",
       "      <td>...</td>\n",
       "      <td>...</td>\n",
       "      <td>...</td>\n",
       "      <td>...</td>\n",
       "    </tr>\n",
       "    <tr>\n",
       "      <th>1865</th>\n",
       "      <td>clojure</td>\n",
       "      <td>Software Engineer</td>\n",
       "      <td>1</td>\n",
       "      <td>1814</td>\n",
       "      <td>0.055127</td>\n",
       "    </tr>\n",
       "    <tr>\n",
       "      <th>1866</th>\n",
       "      <td>vb.net</td>\n",
       "      <td>Senior Data Scientist</td>\n",
       "      <td>1</td>\n",
       "      <td>12946</td>\n",
       "      <td>0.007724</td>\n",
       "    </tr>\n",
       "    <tr>\n",
       "      <th>1867</th>\n",
       "      <td>fortran</td>\n",
       "      <td>Machine Learning Engineer</td>\n",
       "      <td>1</td>\n",
       "      <td>921</td>\n",
       "      <td>0.108578</td>\n",
       "    </tr>\n",
       "    <tr>\n",
       "      <th>1868</th>\n",
       "      <td>planner</td>\n",
       "      <td>Cloud Engineer</td>\n",
       "      <td>1</td>\n",
       "      <td>423</td>\n",
       "      <td>0.236407</td>\n",
       "    </tr>\n",
       "    <tr>\n",
       "      <th>1869</th>\n",
       "      <td>nltk</td>\n",
       "      <td>Senior Data Engineer</td>\n",
       "      <td>1</td>\n",
       "      <td>9289</td>\n",
       "      <td>0.010765</td>\n",
       "    </tr>\n",
       "  </tbody>\n",
       "</table>\n",
       "<p>1870 rows × 5 columns</p>\n",
       "</div>"
      ],
      "text/plain": [
       "     job_skills            job_title_short  skill_count  jobs_total  \\\n",
       "0        python             Data Scientist        42379       58830   \n",
       "1           sql               Data Analyst        34452       67816   \n",
       "2           sql             Data Scientist        30034       58830   \n",
       "3         excel               Data Analyst        27519       67816   \n",
       "4             r             Data Scientist        26022       58830   \n",
       "...         ...                        ...          ...         ...   \n",
       "1865    clojure          Software Engineer            1        1814   \n",
       "1866     vb.net      Senior Data Scientist            1       12946   \n",
       "1867    fortran  Machine Learning Engineer            1         921   \n",
       "1868    planner             Cloud Engineer            1         423   \n",
       "1869       nltk       Senior Data Engineer            1        9289   \n",
       "\n",
       "      skill_percent  \n",
       "0         72.036376  \n",
       "1         50.802171  \n",
       "2         51.052184  \n",
       "3         40.578919  \n",
       "4         44.232534  \n",
       "...             ...  \n",
       "1865       0.055127  \n",
       "1866       0.007724  \n",
       "1867       0.108578  \n",
       "1868       0.236407  \n",
       "1869       0.010765  \n",
       "\n",
       "[1870 rows x 5 columns]"
      ]
     },
     "execution_count": 8,
     "metadata": {},
     "output_type": "execute_result"
    }
   ],
   "source": [
    "df_skills_perc = pd.merge(df_skills_count, df_job_title_count, on='job_title_short', how='left')\n",
    "\n",
    "df_skills_perc['skill_percent'] = (df_skills_perc['skill_count'] / df_skills_perc['jobs_total']) * 100\n",
    "\n",
    "df_skills_perc"
   ]
  },
  {
   "cell_type": "markdown",
   "metadata": {},
   "source": [
    "## Plot Percentage Count"
   ]
  },
  {
   "cell_type": "code",
   "execution_count": 9,
   "metadata": {},
   "outputs": [
    {
     "data": {
      "image/png": "[encoded data removed]",
      "text/plain": [
       "<Figure size 640x480 with 3 Axes>"
      ]
     },
     "metadata": {},
     "output_type": "display_data"
    }
   ],
   "source": [
    "fig, ax = plt.subplots(len(job_titles), 1)\n",
    "\n",
    "\n",
    "for i, job_title in enumerate(job_titles):\n",
    "    df_plot = df_skills_perc[df_skills_perc['job_title_short'] == job_title].head(5)\n",
    "    sns.barplot(data=df_plot, x='skill_percent', y='job_skills', ax=ax[i], hue='skill_count', palette='dark:b_r')\n",
    "    ax[i].set_title(job_title)\n",
    "    ax[i].set_ylabel('')\n",
    "    ax[i].set_xlabel('')\n",
    "    ax[i].get_legend().remove()\n",
    "    ax[i].set_xlim(0, 80)\n",
    "    # remove the x-axis tick labels for better readability\n",
    "    if i != len(job_titles) - 1:\n",
    "        ax[i].set_xticks([])\n",
    "\n",
    "    # label the percentage on the bars\n",
    "    for n, v in enumerate(df_plot['skill_percent']):\n",
    "        ax[i].text(v + 1, n, f'{v:.0f}%', va='center')\n",
    "\n",
    "fig.suptitle('Likelihood of Skills Requested in US Job Postings')\n",
    "fig.tight_layout()\n",
    "plt.show()"
   ]
  }
 ],
 "metadata": {
  "kernelspec": {
   "display_name": "python_course",
   "language": "python",
   "name": "python3"
  },
  "language_info": {
   "codemirror_mode": {
    "name": "ipython",
    "version": 3
   },
   "file_extension": ".py",
   "mimetype": "text/x-python",
   "name": "python",
   "nbconvert_exporter": "python",
   "pygments_lexer": "ipython3",
   "version": "3.11.9"
  }
 },
 "nbformat": 4,
 "nbformat_minor": 2
}
